{
 "cells": [
  {
   "cell_type": "markdown",
   "id": "63bdbe84",
   "metadata": {},
   "source": [
    "# Data Importer\n",
    "[![Static Badge](https://img.shields.io/badge/Jupyter_Notebook-F37726?style=for-the-badge)](https://jupyter.org/)\n",
    "\n",
    "<br>\n",
    "\n",
    "Performs any **adhoc** database operations that need to be done in bulk. \n",
    "\n",
    "<br>\n",
    "\n",
    "## Requirements\n",
    "- Python (Version 3.6 or up)\n",
    "\n",
    "<br>\n",
    "<br>\n",
    "\n",
    "## Installation\n",
    "Run the pip install command below:"
   ]
  },
  {
   "cell_type": "code",
   "execution_count": 8,
   "id": "b47394d2",
   "metadata": {},
   "outputs": [
    {
     "name": "stdout",
     "output_type": "stream",
     "text": [
      "Collecting pandas\n",
      "  Downloading pandas-2.3.0-cp310-cp310-macosx_11_0_arm64.whl.metadata (91 kB)\n",
      "\u001b[2K     \u001b[90m━━━━━━━━━━━━━━━━━━━━━━━━━━━━━━━━━━━━━━━━\u001b[0m \u001b[32m91.2/91.2 kB\u001b[0m \u001b[31m3.7 MB/s\u001b[0m eta \u001b[36m0:00:00\u001b[0m\n",
      "\u001b[?25hCollecting numpy>=1.22.4 (from pandas)\n",
      "  Downloading numpy-2.2.6-cp310-cp310-macosx_14_0_arm64.whl.metadata (62 kB)\n",
      "\u001b[2K     \u001b[90m━━━━━━━━━━━━━━━━━━━━━━━━━━━━━━━━━━━━━━━━\u001b[0m \u001b[32m62.0/62.0 kB\u001b[0m \u001b[31m7.1 MB/s\u001b[0m eta \u001b[36m0:00:00\u001b[0m\n",
      "\u001b[?25hRequirement already satisfied: python-dateutil>=2.8.2 in /Users/anikaawasthi/miniforge3/lib/python3.10/site-packages (from pandas) (2.9.0.post0)\n",
      "Collecting pytz>=2020.1 (from pandas)\n",
      "  Downloading pytz-2025.2-py2.py3-none-any.whl.metadata (22 kB)\n",
      "Collecting tzdata>=2022.7 (from pandas)\n",
      "  Downloading tzdata-2025.2-py2.py3-none-any.whl.metadata (1.4 kB)\n",
      "Requirement already satisfied: six>=1.5 in /Users/anikaawasthi/miniforge3/lib/python3.10/site-packages (from python-dateutil>=2.8.2->pandas) (1.17.0)\n",
      "Downloading pandas-2.3.0-cp310-cp310-macosx_11_0_arm64.whl (10.8 MB)\n",
      "\u001b[2K   \u001b[90m━━━━━━━━━━━━━━━━━━━━━━━━━━━━━━━━━━━━━━━━\u001b[0m \u001b[32m10.8/10.8 MB\u001b[0m \u001b[31m23.6 MB/s\u001b[0m eta \u001b[36m0:00:00\u001b[0m00:01\u001b[0m00:01\u001b[0m\n",
      "\u001b[?25hDownloading numpy-2.2.6-cp310-cp310-macosx_14_0_arm64.whl (5.3 MB)\n",
      "\u001b[2K   \u001b[90m━━━━━━━━━━━━━━━━━━━━━━━━━━━━━━━━━━━━━━━━\u001b[0m \u001b[32m5.3/5.3 MB\u001b[0m \u001b[31m22.6 MB/s\u001b[0m eta \u001b[36m0:00:00\u001b[0m00:01\u001b[0m00:01\u001b[0m\n",
      "\u001b[?25hDownloading pytz-2025.2-py2.py3-none-any.whl (509 kB)\n",
      "\u001b[2K   \u001b[90m━━━━━━━━━━━━━━━━━━━━━━━━━━━━━━━━━━━━━━━━\u001b[0m \u001b[32m509.2/509.2 kB\u001b[0m \u001b[31m20.5 MB/s\u001b[0m eta \u001b[36m0:00:00\u001b[0m\n",
      "\u001b[?25hDownloading tzdata-2025.2-py2.py3-none-any.whl (347 kB)\n",
      "\u001b[2K   \u001b[90m━━━━━━━━━━━━━━━━━━━━━━━━━━━━━━━━━━━━━━━━\u001b[0m \u001b[32m347.8/347.8 kB\u001b[0m \u001b[31m24.6 MB/s\u001b[0m eta \u001b[36m0:00:00\u001b[0m\n",
      "\u001b[?25hInstalling collected packages: pytz, tzdata, numpy, pandas\n",
      "Successfully installed numpy-2.2.6 pandas-2.3.0 pytz-2025.2 tzdata-2025.2\n",
      "Note: you may need to restart the kernel to use updated packages.\n"
     ]
    }
   ],
   "source": [
    "pip install pandas"
   ]
  },
  {
   "cell_type": "code",
   "execution_count": 9,
   "id": "07ef94ae",
   "metadata": {},
   "outputs": [
    {
     "name": "stdout",
     "output_type": "stream",
     "text": [
      "Collecting python-dotenv\n",
      "  Downloading python_dotenv-1.1.0-py3-none-any.whl.metadata (24 kB)\n",
      "Downloading python_dotenv-1.1.0-py3-none-any.whl (20 kB)\n",
      "Installing collected packages: python-dotenv\n",
      "Successfully installed python-dotenv-1.1.0\n",
      "Note: you may need to restart the kernel to use updated packages.\n"
     ]
    }
   ],
   "source": [
    "pip install python-dotenv"
   ]
  },
  {
   "cell_type": "code",
   "execution_count": 10,
   "id": "ddbde859",
   "metadata": {},
   "outputs": [
    {
     "name": "stdout",
     "output_type": "stream",
     "text": [
      "Collecting SQLAlchemy\n",
      "  Downloading sqlalchemy-2.0.41-cp310-cp310-macosx_11_0_arm64.whl.metadata (9.6 kB)\n",
      "Requirement already satisfied: typing-extensions>=4.6.0 in /Users/anikaawasthi/miniforge3/lib/python3.10/site-packages (from SQLAlchemy) (4.14.0)\n",
      "Downloading sqlalchemy-2.0.41-cp310-cp310-macosx_11_0_arm64.whl (2.1 MB)\n",
      "\u001b[2K   \u001b[90m━━━━━━━━━━━━━━━━━━━━━━━━━━━━━━━━━━━━━━━━\u001b[0m \u001b[32m2.1/2.1 MB\u001b[0m \u001b[31m15.8 MB/s\u001b[0m eta \u001b[36m0:00:00\u001b[0ma \u001b[36m0:00:01\u001b[0m\n",
      "\u001b[?25hInstalling collected packages: SQLAlchemy\n",
      "Successfully installed SQLAlchemy-2.0.41\n",
      "Note: you may need to restart the kernel to use updated packages.\n"
     ]
    }
   ],
   "source": [
    "\n",
    "pip install SQLAlchemy"
   ]
  },
  {
   "cell_type": "code",
   "execution_count": 6,
   "id": "cdd9a25b",
   "metadata": {},
   "outputs": [
    {
     "name": "stdout",
     "output_type": "stream",
     "text": [
      "Collecting psycopg2-binary\n",
      "  Downloading psycopg2_binary-2.9.10-cp310-cp310-macosx_14_0_arm64.whl.metadata (4.9 kB)\n",
      "Downloading psycopg2_binary-2.9.10-cp310-cp310-macosx_14_0_arm64.whl (3.3 MB)\n",
      "\u001b[2K   \u001b[90m━━━━━━━━━━━━━━━━━━━━━━━━━━━━━━━━━━━━━━━━\u001b[0m \u001b[32m3.3/3.3 MB\u001b[0m \u001b[31m16.1 MB/s\u001b[0m eta \u001b[36m0:00:00\u001b[0m00:01\u001b[0m00:01\u001b[0m\n",
      "\u001b[?25hInstalling collected packages: psycopg2-binary\n",
      "Successfully installed psycopg2-binary-2.9.10\n",
      "Note: you may need to restart the kernel to use updated packages.\n"
     ]
    }
   ],
   "source": [
    "pip install psycopg2-binary"
   ]
  },
  {
   "cell_type": "markdown",
   "id": "99d5b6c5",
   "metadata": {},
   "source": [
    "<br>\n",
    "<br>\n",
    "\n",
    "## Initialization\n",
    "\n",
    "Run the codeblock below to initialize all the necessary tools\n",
    "\n",
    "<br>\n",
    "\n",
    "> ***❇️ Important*** <br>\n",
    ">\n",
    "> You may need to restart the kernel of this notebook if you changed anything in the source code\n",
    "> "
   ]
  },
  {
   "cell_type": "code",
   "execution_count": 1,
   "id": "4763c476",
   "metadata": {},
   "outputs": [],
   "source": [
    "import sys\n",
    "\n",
    "sys.path.insert(1, r\"src\")\n",
    "\n",
    "import DataImporter as DI\n",
    "\n",
    "        \n",
    "########\n",
    "# MAIN #\n",
    "########\n",
    "Secrets = DI.DBSecrets.load()\n",
    "Database = DI.DBNames.Prod.value\n",
    "importer = DI.Importer(Secrets, database = Database, useConnPool = False)\n"
   ]
  },
  {
   "cell_type": "markdown",
   "id": "27adcaa2",
   "metadata": {},
   "source": [
    "<br>\n",
    "<br>\n",
    "\n",
    "## Dataset Format\n",
    "A *dataset* is a folder that contains many .csv files.<br> \n",
    "For simplicity, each .csv file references a particular table. \n",
    "\n",
    "<br>\n",
    "\n",
    "> ***📝 NOTE:*** <br>\n",
    ">\n",
    "> The id keys in the .csv files are only for convenience of debugging\n",
    "> \n",
    "> These ids will be regenerated on the database side.\n",
    "\n",
    "\n",
    "<br>\n",
    "<br>\n",
    "\n",
    "## Importing a Dataset\n",
    "\n",
    "The following codeblock gives some example of importing a dataset. <br>\n",
    "The data will first be cleaning, before being imported.\n",
    "\n",
    "<br>\n",
    "\n",
    "For cleaning, we have the following settings:\n",
    "\n",
    "| Clean Level | Description |\n",
    "| ----------- | ----------- |\n",
    "| None        | No data cleaning done |\n",
    "| Tuples      | Clears all data from every table |\n",
    "| Tables      | Deletes every table in the database |\n",
    "| Database    | Deletes an entire database |\n",
    "\n",
    "<br>\n",
    "\n",
    "For importing, we have the following setttings:\n",
    "\n",
    "| Build Level | Description |\n",
    "| ----------- | ----------- |\n",
    "| Tuples      | Only Imports the data into existing tables |\n",
    "| Tables      | Constructs the required tables, then imports the data |\n",
    "| Database    | Constructs a database and the required tables, before importing the data | "
   ]
  },
  {
   "cell_type": "code",
   "execution_count": null,
   "id": "5684325a",
   "metadata": {},
   "outputs": [
    {
     "name": "stdout",
     "output_type": "stream",
     "text": [
      "===== STARTING TO IMPORT DATA ========\n",
      "Deleting database by the name, production ...\n",
      "Constructing the database by the name, production ...\n",
      "Constructing all tables...\n",
      "Inserting User Data...\n",
      "Inserting Building Data...\n",
      "Inserting Room Data...\n",
      "Inserting Booking Data...\n",
      "Inserting Cancellation Data...\n",
      "========== IMPORT COMPLETE ===========\n"
     ]
    },
    {
     "ename": "",
     "evalue": "",
     "output_type": "error",
     "traceback": [
      "\u001b[1;31mThe Kernel crashed while executing code in the current cell or a previous cell. \n",
      "\u001b[1;31mPlease review the code in the cell(s) to identify a possible cause of the failure. \n",
      "\u001b[1;31mClick <a href='https://aka.ms/vscodeJupyterKernelCrash'>here</a> for more info. \n",
      "\u001b[1;31mView Jupyter <a href='command:jupyter.viewOutput'>log</a> for further details."
     ]
    }
   ],
   "source": [
    "print(\"===== STARTING TO IMPORT DATA ========\")\n",
    "\n",
    "importer.importData(r\"data/Toy Dataset\", cleanLevel = DI.ImportLevel.Database, buildLevel = DI.ImportLevel.Database)\n",
    "\n",
    "print(\"========== IMPORT COMPLETE ===========\")"
   ]
  },
  {
   "cell_type": "markdown",
   "id": "9c56724c",
   "metadata": {},
   "source": [
    "<br>\n",
    "<br>\n",
    "\n",
    "## Clearing all Data\n",
    "\n",
    "The following codeblock gives an example of clearing the data from all the tables\n",
    "\n",
    "<br>\n",
    "\n",
    "> ***❗ WARNING:*** <br>\n",
    ">\n",
    "> ONLY DO THIS IF YOU ARE ABSOLUTELY SURE OF WHAT YOU ARE DOING\n",
    "> \n",
    "\n",
    "<br>\n",
    "\n",
    "For the cleaning settings, please refer to the table at [Importing a Dataset](#importing-a-dataset)\n"
   ]
  },
  {
   "cell_type": "code",
   "execution_count": null,
   "id": "fd142d69",
   "metadata": {},
   "outputs": [
    {
     "name": "stdout",
     "output_type": "stream",
     "text": [
      "===== STARTING TO DELETE DATA ========\n",
      "Deleting all tables...\n",
      "========= DELETION COMPLETE ==========\n"
     ]
    }
   ],
   "source": [
    "print(\"===== STARTING TO DELETE DATA ========\")\n",
    "\n",
    "importer.clean(cleanLevel = DI.ImportLevel.Tables)\n",
    "\n",
    "print(\"========= DELETION COMPLETE ==========\")"
   ]
  },
  {
   "cell_type": "markdown",
   "id": "a63b32e8",
   "metadata": {},
   "source": [
    "<br>\n",
    "<br>\n",
    "\n",
    "## Execute Custom SQL\n",
    "\n",
    "The following codeblock gives some example to execute some custom sql command"
   ]
  },
  {
   "cell_type": "code",
   "execution_count": 10,
   "id": "bfa94d36",
   "metadata": {},
   "outputs": [
    {
     "name": "stdout",
     "output_type": "stream",
     "text": [
      "('14d85a4c-87c4-43a2-a399-8b229cec9a5d', '6e25f54e-5cf8-40e6-a8b0-a446e9f6529e', datetime.datetime(2025, 6, 19, 1, 58, 40, 696739, tzinfo=psycopg2.tz.FixedOffsetTimezone(offset=0, name=None)))\n"
     ]
    }
   ],
   "source": [
    "import psycopg2\n",
    "import psycopg2.sql\n",
    "\n",
    "\n",
    "selectNameSQL = '''\n",
    "SELECT \"bookingID\", \"userID\", NOW() \n",
    "FROM \"Cancellation\"\n",
    "WHERE \"bookingID\" = %(booking_id)s AND \"userID\" = %(user_id)s ;\n",
    "'''\n",
    "connData, cursor, err = importer.executeSQL(selectNameSQL, {\"booking_id\": \"14d85a4c-87c4-43a2-a399-8b229cec9a5d\", \"user_id\": \"6e25f54e-5cf8-40e6-a8b0-a446e9f6529e\"}, closeConn = False)\n",
    "\n",
    "if (err is None):\n",
    "    print(cursor.fetchone())\n",
    "    connData.putConn()\n",
    "else:\n",
    "    connData.close()\n",
    "    raise err"
   ]
  }
 ],
 "metadata": {
  "kernelspec": {
   "display_name": "base",
   "language": "python",
   "name": "python3"
  },
  "language_info": {
   "codemirror_mode": {
    "name": "ipython",
    "version": 3
   },
   "file_extension": ".py",
   "mimetype": "text/x-python",
   "name": "python",
   "nbconvert_exporter": "python",
   "pygments_lexer": "ipython3",
   "version": "3.10.14"
  }
 },
 "nbformat": 4,
 "nbformat_minor": 5
}
