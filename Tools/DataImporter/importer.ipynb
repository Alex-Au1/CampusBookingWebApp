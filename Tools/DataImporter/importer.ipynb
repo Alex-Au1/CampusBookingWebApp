{
 "cells": [
  {
   "cell_type": "markdown",
   "id": "63bdbe84",
   "metadata": {},
   "source": [
    "# Data Importer\n",
    "[![Static Badge](https://img.shields.io/badge/Jupyter_Notebook-F37726?style=for-the-badge)](https://jupyter.org/)\n",
    "\n",
    "<br>\n",
    "\n",
    "Performs any **adhoc** database operations that need to be done in bulk. \n",
    "\n",
    "<br>\n",
    "\n",
    "## Requirements\n",
    "- Python (Version 3.6 or up)\n",
    "\n",
    "<br>\n",
    "<br>\n",
    "\n",
    "## Installation\n",
    "Run the pip install command below:"
   ]
  },
  {
   "cell_type": "code",
   "execution_count": null,
   "id": "b47394d2",
   "metadata": {},
   "outputs": [],
   "source": [
    "%pip install -r requirements.txt"
   ]
  },
  {
   "cell_type": "markdown",
   "id": "99d5b6c5",
   "metadata": {},
   "source": [
    "<br>\n",
    "<br>\n",
    "\n",
    "## Initialization\n",
    "\n",
    "Run the codeblock below to initialize all the necessary tools\n",
    "\n",
    "<br>\n",
    "\n",
    "> ***❇️ Important*** <br>\n",
    ">\n",
    "> You may need to restart the kernel of this notebook if you changed anything in the source code\n",
    "> "
   ]
  },
  {
   "cell_type": "code",
   "execution_count": 1,
   "id": "4763c476",
   "metadata": {},
   "outputs": [],
   "source": [
    "import sys\n",
    "\n",
    "sys.path.insert(1, r\"src\")\n",
    "\n",
    "import DataImporter as DI\n",
    "\n",
    "        \n",
    "########\n",
    "# MAIN #\n",
    "########\n",
    "Secrets = DI.DBSecrets.load()\n",
    "Database = DI.DBNames.DevUnitTest.value\n",
    "importer = DI.Importer(Secrets, database = Database, useConnPool = False)\n"
   ]
  },
  {
   "cell_type": "markdown",
   "id": "27adcaa2",
   "metadata": {},
   "source": [
    "<br>\n",
    "<br>\n",
    "\n",
    "## Dataset Format\n",
    "A *dataset* is a folder that contains many .csv files.<br> \n",
    "For simplicity, each .csv file references a particular table. \n",
    "\n",
    "<br>\n",
    "\n",
    "> ***📝 NOTE:*** <br>\n",
    ">\n",
    "> The id keys in the .csv files are only for convenience of debugging\n",
    "> \n",
    "> These ids will be regenerated on the database side.\n",
    "\n",
    "\n",
    "<br>\n",
    "<br>\n",
    "\n",
    "## Importing a Dataset\n",
    "\n",
    "The following codeblock gives some example of importing a dataset. <br>\n",
    "The data will first be cleaning, before being imported.\n",
    "\n",
    "<br>\n",
    "\n",
    "For cleaning, we have the following settings:\n",
    "\n",
    "| Clean Level | Description |\n",
    "| ----------- | ----------- |\n",
    "| None        | No data cleaning done |\n",
    "| Tuples      | Clears all data from every table |\n",
    "| Tables      | Deletes every table in the database |\n",
    "| Database    | Deletes an entire database |\n",
    "\n",
    "<br>\n",
    "\n",
    "For importing, we have the following setttings:\n",
    "\n",
    "| Build Level | Description |\n",
    "| ----------- | ----------- |\n",
    "| Tuples      | Only Imports the data into existing tables |\n",
    "| Tables      | Constructs the required tables, then imports the data |\n",
    "| Database    | Constructs a database and the required tables, before importing the data | "
   ]
  },
  {
   "cell_type": "code",
   "execution_count": 2,
   "id": "5684325a",
   "metadata": {},
   "outputs": [
    {
     "name": "stdout",
     "output_type": "stream",
     "text": [
      "===== STARTING TO IMPORT DATA ========\n",
      "Deleting database by the name, unittest_dev ...\n",
      "Constructing the database by the name, unittest_dev ...\n",
      "Constructing all tables...\n",
      "Inserting User Data...\n"
     ]
    },
    {
     "ename": "IntegrityError",
     "evalue": "(psycopg2.errors.UniqueViolation) duplicate key value violates unique constraint \"User_email_key\"\nDETAIL:  Key (email)=(edna.wiggum@uwaterloo.ca) already exists.\n\n[SQL: INSERT INTO \"User\" (\"userID\", username, email, password, \"permissionLevel\") VALUES (%(userID__0)s, %(username__0)s, %(email__0)s, %(password__0)s, %(permissionLevel__0)s), (%(userID__1)s, %(username__1)s, %(email__1)s, %(password__1)s, %(permissionLe ... 18981 characters truncated ... ), (%(userID__199)s, %(username__199)s, %(email__199)s, %(password__199)s, %(permissionLevel__199)s)]\n[parameters: {'userID__0': UUID('00000000-0000-0000-0000-000000000001'), 'permissionLevel__0': 1, 'username__0': 'k001flanders', 'password__0': 'password001', 'email__0': 'krusty.flanders@uwaterloo.ca', 'userID__1': UUID('00000000-0000-0000-0000-000000000002'), 'permissionLevel__1': 2, 'username__1': 'a002leonard', 'password__1': 'password002', 'email__1': 'apu.leonard@uwaterloo.ca', 'userID__2': UUID('00000000-0000-0000-0000-000000000003'), 'permissionLevel__2': 1, 'username__2': 'e003wiggum', 'password__2': 'password003', 'email__2': 'edna.wiggum@uwaterloo.ca', 'userID__3': UUID('00000000-0000-0000-0000-000000000004'), 'permissionLevel__3': 1, 'username__3': 'b004burns', 'password__3': 'password004', 'email__3': 'barney.burns@uwaterloo.ca', 'userID__4': UUID('00000000-0000-0000-0000-000000000005'), 'permissionLevel__4': 1, 'username__4': 'w005smithers', 'password__4': 'password005', 'email__4': 'waylon.smithers@uwaterloo.ca', 'userID__5': UUID('00000000-0000-0000-0000-000000000006'), 'permissionLevel__5': 1, 'username__5': 'e006wiggum', 'password__5': 'password006', 'email__5': 'edna.wiggum@uwaterloo.ca', 'userID__6': UUID('00000000-0000-0000-0000-000000000007'), 'permissionLevel__6': 2, 'username__6': 'm007szyslak', 'password__6': 'password007', 'email__6': 'martin.szyslak@uwaterloo.ca', 'userID__7': UUID('00000000-0000-0000-0000-000000000008'), 'permissionLevel__7': 2, 'username__7': 'l008flanders', 'password__7': 'password008', 'email__7': 'lisa.flanders@uwaterloo.ca', 'userID__8': UUID('00000000-0000-0000-0000-000000000009'), 'permissionLevel__8': 2, 'username__8': 'm009nahasapeemapetilon', 'password__8': 'password009', 'email__8': 'milhouse.nahasapeemapetilon@uwaterloo.ca', 'userID__9': UUID('00000000-0000-0000-0000-00000000000a'), 'permissionLevel__9': 1, 'username__9': 'w010burns', 'password__9': 'password010', 'email__9': 'waylon.burns@uwaterloo.ca' ... 900 parameters truncated ... 'userID__190': UUID('00000000-0000-0000-0000-0000000000bf'), 'permissionLevel__190': 2, 'username__190': 'k191gumble', 'password__190': 'password191', 'email__190': 'krusty.gumble@uwaterloo.ca', 'userID__191': UUID('00000000-0000-0000-0000-0000000000c0'), 'permissionLevel__191': 1, 'username__191': 'h192szyslak', 'password__191': 'password192', 'email__191': 'homer.szyslak@uwaterloo.ca', 'userID__192': UUID('00000000-0000-0000-0000-0000000000c1'), 'permissionLevel__192': 2, 'username__192': 'w193skinner', 'password__192': 'password193', 'email__192': 'waylon.skinner@uwaterloo.ca', 'userID__193': UUID('00000000-0000-0000-0000-0000000000c2'), 'permissionLevel__193': 1, 'username__193': 'r194skinner', 'password__193': 'password194', 'email__193': 'ralph.skinner@uwaterloo.ca', 'userID__194': UUID('00000000-0000-0000-0000-0000000000c3'), 'permissionLevel__194': 2, 'username__194': 'm195szyslak', 'password__194': 'password195', 'email__194': 'marge.szyslak@uwaterloo.ca', 'userID__195': UUID('00000000-0000-0000-0000-0000000000c4'), 'permissionLevel__195': 1, 'username__195': 'm196nahasapeemapetilon', 'password__195': 'password196', 'email__195': 'marge.nahasapeemapetilon@uwaterloo.ca', 'userID__196': UUID('00000000-0000-0000-0000-0000000000c5'), 'permissionLevel__196': 1, 'username__196': 'k197simpson', 'password__196': 'password197', 'email__196': 'krusty.simpson@uwaterloo.ca', 'userID__197': UUID('00000000-0000-0000-0000-0000000000c6'), 'permissionLevel__197': 1, 'username__197': 'b198houten', 'password__197': 'password198', 'email__197': 'bart.houten@uwaterloo.ca', 'userID__198': UUID('00000000-0000-0000-0000-0000000000c7'), 'permissionLevel__198': 1, 'username__198': 'w199muntz', 'password__198': 'password199', 'email__198': 'waylon.muntz@uwaterloo.ca', 'userID__199': UUID('00000000-0000-0000-0000-0000000000c8'), 'permissionLevel__199': 1, 'username__199': 'b200wiggum', 'password__199': 'password200', 'email__199': 'barney.wiggum@uwaterloo.ca'}]\n(Background on this error at: https://sqlalche.me/e/20/gkpj)",
     "output_type": "error",
     "traceback": [
      "\u001b[1;31m---------------------------------------------------------------------------\u001b[0m",
      "\u001b[1;31mUniqueViolation\u001b[0m                           Traceback (most recent call last)",
      "File \u001b[1;32mc:\\Users\\3dark\\AppData\\Local\\Programs\\Python\\Python39\\lib\\site-packages\\sqlalchemy\\engine\\base.py:2114\u001b[0m, in \u001b[0;36mConnection._exec_insertmany_context\u001b[1;34m(self, dialect, context)\u001b[0m\n\u001b[0;32m   2113\u001b[0m     \u001b[38;5;28;01melse\u001b[39;00m:\n\u001b[1;32m-> 2114\u001b[0m         \u001b[43mdialect\u001b[49m\u001b[38;5;241;43m.\u001b[39;49m\u001b[43mdo_execute\u001b[49m\u001b[43m(\u001b[49m\n\u001b[0;32m   2115\u001b[0m \u001b[43m            \u001b[49m\u001b[43mcursor\u001b[49m\u001b[43m,\u001b[49m\n\u001b[0;32m   2116\u001b[0m \u001b[43m            \u001b[49m\u001b[43msub_stmt\u001b[49m\u001b[43m,\u001b[49m\n\u001b[0;32m   2117\u001b[0m \u001b[43m            \u001b[49m\u001b[43msub_params\u001b[49m\u001b[43m,\u001b[49m\n\u001b[0;32m   2118\u001b[0m \u001b[43m            \u001b[49m\u001b[43mcontext\u001b[49m\u001b[43m,\u001b[49m\n\u001b[0;32m   2119\u001b[0m \u001b[43m        \u001b[49m\u001b[43m)\u001b[49m\n\u001b[0;32m   2121\u001b[0m \u001b[38;5;28;01mexcept\u001b[39;00m \u001b[38;5;167;01mBaseException\u001b[39;00m \u001b[38;5;28;01mas\u001b[39;00m e:\n",
      "File \u001b[1;32mc:\\Users\\3dark\\AppData\\Local\\Programs\\Python\\Python39\\lib\\site-packages\\sqlalchemy\\engine\\default.py:943\u001b[0m, in \u001b[0;36mDefaultDialect.do_execute\u001b[1;34m(self, cursor, statement, parameters, context)\u001b[0m\n\u001b[0;32m    942\u001b[0m \u001b[38;5;28;01mdef\u001b[39;00m \u001b[38;5;21mdo_execute\u001b[39m(\u001b[38;5;28mself\u001b[39m, cursor, statement, parameters, context\u001b[38;5;241m=\u001b[39m\u001b[38;5;28;01mNone\u001b[39;00m):\n\u001b[1;32m--> 943\u001b[0m     \u001b[43mcursor\u001b[49m\u001b[38;5;241;43m.\u001b[39;49m\u001b[43mexecute\u001b[49m\u001b[43m(\u001b[49m\u001b[43mstatement\u001b[49m\u001b[43m,\u001b[49m\u001b[43m \u001b[49m\u001b[43mparameters\u001b[49m\u001b[43m)\u001b[49m\n",
      "\u001b[1;31mUniqueViolation\u001b[0m: duplicate key value violates unique constraint \"User_email_key\"\nDETAIL:  Key (email)=(edna.wiggum@uwaterloo.ca) already exists.\n",
      "\nThe above exception was the direct cause of the following exception:\n",
      "\u001b[1;31mIntegrityError\u001b[0m                            Traceback (most recent call last)",
      "Cell \u001b[1;32mIn[2], line 3\u001b[0m\n\u001b[0;32m      1\u001b[0m \u001b[38;5;28mprint\u001b[39m(\u001b[38;5;124m\"\u001b[39m\u001b[38;5;124m===== STARTING TO IMPORT DATA ========\u001b[39m\u001b[38;5;124m\"\u001b[39m)\n\u001b[1;32m----> 3\u001b[0m \u001b[43mimporter\u001b[49m\u001b[38;5;241;43m.\u001b[39;49m\u001b[43mimportData\u001b[49m\u001b[43m(\u001b[49m\u001b[43mDI\u001b[49m\u001b[38;5;241;43m.\u001b[39;49m\u001b[43mPaths\u001b[49m\u001b[38;5;241;43m.\u001b[39;49m\u001b[43mSampleDatasetFolder\u001b[49m\u001b[38;5;241;43m.\u001b[39;49m\u001b[43mvalue\u001b[49m\u001b[43m,\u001b[49m\u001b[43m \u001b[49m\n\u001b[0;32m      4\u001b[0m \u001b[43m                    \u001b[49m\u001b[43mcleanLevel\u001b[49m\u001b[43m \u001b[49m\u001b[38;5;241;43m=\u001b[39;49m\u001b[43m \u001b[49m\u001b[43mDI\u001b[49m\u001b[38;5;241;43m.\u001b[39;49m\u001b[43mImportLevel\u001b[49m\u001b[38;5;241;43m.\u001b[39;49m\u001b[43mDatabase\u001b[49m\u001b[43m,\u001b[49m\u001b[43m \u001b[49m\n\u001b[0;32m      5\u001b[0m \u001b[43m                    \u001b[49m\u001b[43mbuildLevel\u001b[49m\u001b[43m \u001b[49m\u001b[38;5;241;43m=\u001b[39;49m\u001b[43m \u001b[49m\u001b[43mDI\u001b[49m\u001b[38;5;241;43m.\u001b[39;49m\u001b[43mImportLevel\u001b[49m\u001b[38;5;241;43m.\u001b[39;49m\u001b[43mDatabase\u001b[49m\u001b[43m,\u001b[49m\u001b[43m \u001b[49m\n\u001b[0;32m      6\u001b[0m \u001b[43m                    \u001b[49m\u001b[43mrandomIDs\u001b[49m\u001b[43m \u001b[49m\u001b[38;5;241;43m=\u001b[39;49m\u001b[43m \u001b[49m\u001b[38;5;28;43;01mFalse\u001b[39;49;00m\u001b[43m)\u001b[49m\n\u001b[0;32m      8\u001b[0m \u001b[38;5;28mprint\u001b[39m(\u001b[38;5;124m\"\u001b[39m\u001b[38;5;124m========== IMPORT COMPLETE ===========\u001b[39m\u001b[38;5;124m\"\u001b[39m)\n",
      "File \u001b[1;32me:\\Computer\\Programs\\Python\\CS348\\cs348_project\\Tools\\DataImporter\\src\\DataImporter\\Importer.py:175\u001b[0m, in \u001b[0;36mImporter.importData\u001b[1;34m(self, dataFolder, buildLevel, cleanLevel, randomIDs)\u001b[0m\n\u001b[0;32m    173\u001b[0m     bookingData, cancellationData \u001b[38;5;241m=\u001b[39m \u001b[38;5;28mself\u001b[39m\u001b[38;5;241m.\u001b[39minsertAndReplaceIds(userData, TableNames\u001b[38;5;241m.\u001b[39mUser\u001b[38;5;241m.\u001b[39mvalue, [bookingData, cancellationData], ColNames\u001b[38;5;241m.\u001b[39mUserId\u001b[38;5;241m.\u001b[39mvalue)\n\u001b[0;32m    174\u001b[0m \u001b[38;5;28;01melse\u001b[39;00m:\n\u001b[1;32m--> 175\u001b[0m     \u001b[38;5;28;43mself\u001b[39;49m\u001b[38;5;241;43m.\u001b[39;49m\u001b[43minsert\u001b[49m\u001b[43m(\u001b[49m\u001b[43muserData\u001b[49m\u001b[43m,\u001b[49m\u001b[43m \u001b[49m\u001b[43mTableNames\u001b[49m\u001b[38;5;241;43m.\u001b[39;49m\u001b[43mUser\u001b[49m\u001b[38;5;241;43m.\u001b[39;49m\u001b[43mvalue\u001b[49m\u001b[43m)\u001b[49m\n\u001b[0;32m    177\u001b[0m \u001b[38;5;28mprint\u001b[39m(\u001b[38;5;124mf\u001b[39m\u001b[38;5;124m\"\u001b[39m\u001b[38;5;124mInserting Building Data...\u001b[39m\u001b[38;5;124m\"\u001b[39m)\n\u001b[0;32m    178\u001b[0m \u001b[38;5;28;01mif\u001b[39;00m (randomIDs):\n",
      "File \u001b[1;32me:\\Computer\\Programs\\Python\\CS348\\cs348_project\\Tools\\PyUtils\\src\\PyUtils\\database\\DBTool.py:173\u001b[0m, in \u001b[0;36mDBTool.insert\u001b[1;34m(self, data, tableName, returnCols)\u001b[0m\n\u001b[0;32m    171\u001b[0m \u001b[38;5;28;01mif\u001b[39;00m (returnCols \u001b[38;5;129;01mis\u001b[39;00m \u001b[38;5;28;01mNone\u001b[39;00m \u001b[38;5;129;01mor\u001b[39;00m \u001b[38;5;129;01mnot\u001b[39;00m returnCols):\n\u001b[0;32m    172\u001b[0m     sqlEngine \u001b[38;5;241m=\u001b[39m \u001b[38;5;28mself\u001b[39m\u001b[38;5;241m.\u001b[39mgetSQLEngine()\n\u001b[1;32m--> 173\u001b[0m     \u001b[43mdata\u001b[49m\u001b[38;5;241;43m.\u001b[39;49m\u001b[43mto_sql\u001b[49m\u001b[43m(\u001b[49m\u001b[43mtableName\u001b[49m\u001b[43m,\u001b[49m\u001b[43m \u001b[49m\u001b[43msqlEngine\u001b[49m\u001b[43m,\u001b[49m\u001b[43m \u001b[49m\u001b[43mif_exists\u001b[49m\u001b[43m \u001b[49m\u001b[38;5;241;43m=\u001b[39;49m\u001b[43m \u001b[49m\u001b[38;5;124;43m\"\u001b[39;49m\u001b[38;5;124;43mappend\u001b[39;49m\u001b[38;5;124;43m\"\u001b[39;49m\u001b[43m,\u001b[49m\u001b[43m \u001b[49m\u001b[43mindex\u001b[49m\u001b[43m \u001b[49m\u001b[38;5;241;43m=\u001b[39;49m\u001b[43m \u001b[49m\u001b[38;5;28;43;01mFalse\u001b[39;49;00m\u001b[43m)\u001b[49m\n\u001b[0;32m    174\u001b[0m     \u001b[38;5;28;01mreturn\u001b[39;00m\n\u001b[0;32m    176\u001b[0m colPrefix \u001b[38;5;241m=\u001b[39m \u001b[38;5;124m\"\u001b[39m\u001b[38;5;124mcol\u001b[39m\u001b[38;5;124m\"\u001b[39m\n",
      "File \u001b[1;32mc:\\Users\\3dark\\AppData\\Local\\Programs\\Python\\Python39\\lib\\site-packages\\pandas\\util\\_decorators.py:333\u001b[0m, in \u001b[0;36mdeprecate_nonkeyword_arguments.<locals>.decorate.<locals>.wrapper\u001b[1;34m(*args, **kwargs)\u001b[0m\n\u001b[0;32m    327\u001b[0m \u001b[38;5;28;01mif\u001b[39;00m \u001b[38;5;28mlen\u001b[39m(args) \u001b[38;5;241m>\u001b[39m num_allow_args:\n\u001b[0;32m    328\u001b[0m     warnings\u001b[38;5;241m.\u001b[39mwarn(\n\u001b[0;32m    329\u001b[0m         msg\u001b[38;5;241m.\u001b[39mformat(arguments\u001b[38;5;241m=\u001b[39m_format_argument_list(allow_args)),\n\u001b[0;32m    330\u001b[0m         \u001b[38;5;167;01mFutureWarning\u001b[39;00m,\n\u001b[0;32m    331\u001b[0m         stacklevel\u001b[38;5;241m=\u001b[39mfind_stack_level(),\n\u001b[0;32m    332\u001b[0m     )\n\u001b[1;32m--> 333\u001b[0m \u001b[38;5;28;01mreturn\u001b[39;00m func(\u001b[38;5;241m*\u001b[39margs, \u001b[38;5;241m*\u001b[39m\u001b[38;5;241m*\u001b[39mkwargs)\n",
      "File \u001b[1;32mc:\\Users\\3dark\\AppData\\Local\\Programs\\Python\\Python39\\lib\\site-packages\\pandas\\core\\generic.py:3106\u001b[0m, in \u001b[0;36mNDFrame.to_sql\u001b[1;34m(self, name, con, schema, if_exists, index, index_label, chunksize, dtype, method)\u001b[0m\n\u001b[0;32m   2908\u001b[0m \u001b[38;5;250m\u001b[39m\u001b[38;5;124;03m\"\"\"\u001b[39;00m\n\u001b[0;32m   2909\u001b[0m \u001b[38;5;124;03mWrite records stored in a DataFrame to a SQL database.\u001b[39;00m\n\u001b[0;32m   2910\u001b[0m \n\u001b[1;32m   (...)\u001b[0m\n\u001b[0;32m   3102\u001b[0m \u001b[38;5;124;03m[(1,), (None,), (2,)]\u001b[39;00m\n\u001b[0;32m   3103\u001b[0m \u001b[38;5;124;03m\"\"\"\u001b[39;00m  \u001b[38;5;66;03m# noqa: E501\u001b[39;00m\n\u001b[0;32m   3104\u001b[0m \u001b[38;5;28;01mfrom\u001b[39;00m \u001b[38;5;21;01mpandas\u001b[39;00m\u001b[38;5;21;01m.\u001b[39;00m\u001b[38;5;21;01mio\u001b[39;00m \u001b[38;5;28;01mimport\u001b[39;00m sql\n\u001b[1;32m-> 3106\u001b[0m \u001b[38;5;28;01mreturn\u001b[39;00m \u001b[43msql\u001b[49m\u001b[38;5;241;43m.\u001b[39;49m\u001b[43mto_sql\u001b[49m\u001b[43m(\u001b[49m\n\u001b[0;32m   3107\u001b[0m \u001b[43m    \u001b[49m\u001b[38;5;28;43mself\u001b[39;49m\u001b[43m,\u001b[49m\n\u001b[0;32m   3108\u001b[0m \u001b[43m    \u001b[49m\u001b[43mname\u001b[49m\u001b[43m,\u001b[49m\n\u001b[0;32m   3109\u001b[0m \u001b[43m    \u001b[49m\u001b[43mcon\u001b[49m\u001b[43m,\u001b[49m\n\u001b[0;32m   3110\u001b[0m \u001b[43m    \u001b[49m\u001b[43mschema\u001b[49m\u001b[38;5;241;43m=\u001b[39;49m\u001b[43mschema\u001b[49m\u001b[43m,\u001b[49m\n\u001b[0;32m   3111\u001b[0m \u001b[43m    \u001b[49m\u001b[43mif_exists\u001b[49m\u001b[38;5;241;43m=\u001b[39;49m\u001b[43mif_exists\u001b[49m\u001b[43m,\u001b[49m\n\u001b[0;32m   3112\u001b[0m \u001b[43m    \u001b[49m\u001b[43mindex\u001b[49m\u001b[38;5;241;43m=\u001b[39;49m\u001b[43mindex\u001b[49m\u001b[43m,\u001b[49m\n\u001b[0;32m   3113\u001b[0m \u001b[43m    \u001b[49m\u001b[43mindex_label\u001b[49m\u001b[38;5;241;43m=\u001b[39;49m\u001b[43mindex_label\u001b[49m\u001b[43m,\u001b[49m\n\u001b[0;32m   3114\u001b[0m \u001b[43m    \u001b[49m\u001b[43mchunksize\u001b[49m\u001b[38;5;241;43m=\u001b[39;49m\u001b[43mchunksize\u001b[49m\u001b[43m,\u001b[49m\n\u001b[0;32m   3115\u001b[0m \u001b[43m    \u001b[49m\u001b[43mdtype\u001b[49m\u001b[38;5;241;43m=\u001b[39;49m\u001b[43mdtype\u001b[49m\u001b[43m,\u001b[49m\n\u001b[0;32m   3116\u001b[0m \u001b[43m    \u001b[49m\u001b[43mmethod\u001b[49m\u001b[38;5;241;43m=\u001b[39;49m\u001b[43mmethod\u001b[49m\u001b[43m,\u001b[49m\n\u001b[0;32m   3117\u001b[0m \u001b[43m\u001b[49m\u001b[43m)\u001b[49m\n",
      "File \u001b[1;32mc:\\Users\\3dark\\AppData\\Local\\Programs\\Python\\Python39\\lib\\site-packages\\pandas\\io\\sql.py:844\u001b[0m, in \u001b[0;36mto_sql\u001b[1;34m(frame, name, con, schema, if_exists, index, index_label, chunksize, dtype, method, engine, **engine_kwargs)\u001b[0m\n\u001b[0;32m    839\u001b[0m     \u001b[38;5;28;01mraise\u001b[39;00m \u001b[38;5;167;01mNotImplementedError\u001b[39;00m(\n\u001b[0;32m    840\u001b[0m         \u001b[38;5;124m\"\u001b[39m\u001b[38;5;124m'\u001b[39m\u001b[38;5;124mframe\u001b[39m\u001b[38;5;124m'\u001b[39m\u001b[38;5;124m argument should be either a Series or a DataFrame\u001b[39m\u001b[38;5;124m\"\u001b[39m\n\u001b[0;32m    841\u001b[0m     )\n\u001b[0;32m    843\u001b[0m \u001b[38;5;28;01mwith\u001b[39;00m pandasSQL_builder(con, schema\u001b[38;5;241m=\u001b[39mschema, need_transaction\u001b[38;5;241m=\u001b[39m\u001b[38;5;28;01mTrue\u001b[39;00m) \u001b[38;5;28;01mas\u001b[39;00m pandas_sql:\n\u001b[1;32m--> 844\u001b[0m     \u001b[38;5;28;01mreturn\u001b[39;00m pandas_sql\u001b[38;5;241m.\u001b[39mto_sql(\n\u001b[0;32m    845\u001b[0m         frame,\n\u001b[0;32m    846\u001b[0m         name,\n\u001b[0;32m    847\u001b[0m         if_exists\u001b[38;5;241m=\u001b[39mif_exists,\n\u001b[0;32m    848\u001b[0m         index\u001b[38;5;241m=\u001b[39mindex,\n\u001b[0;32m    849\u001b[0m         index_label\u001b[38;5;241m=\u001b[39mindex_label,\n\u001b[0;32m    850\u001b[0m         schema\u001b[38;5;241m=\u001b[39mschema,\n\u001b[0;32m    851\u001b[0m         chunksize\u001b[38;5;241m=\u001b[39mchunksize,\n\u001b[0;32m    852\u001b[0m         dtype\u001b[38;5;241m=\u001b[39mdtype,\n\u001b[0;32m    853\u001b[0m         method\u001b[38;5;241m=\u001b[39mmethod,\n\u001b[0;32m    854\u001b[0m         engine\u001b[38;5;241m=\u001b[39mengine,\n\u001b[0;32m    855\u001b[0m         \u001b[38;5;241m*\u001b[39m\u001b[38;5;241m*\u001b[39mengine_kwargs,\n\u001b[0;32m    856\u001b[0m     )\n",
      "File \u001b[1;32mc:\\Users\\3dark\\AppData\\Local\\Programs\\Python\\Python39\\lib\\site-packages\\pandas\\io\\sql.py:2030\u001b[0m, in \u001b[0;36mSQLDatabase.to_sql\u001b[1;34m(self, frame, name, if_exists, index, index_label, schema, chunksize, dtype, method, engine, **engine_kwargs)\u001b[0m\n\u001b[0;32m   2018\u001b[0m sql_engine \u001b[38;5;241m=\u001b[39m get_engine(engine)\n\u001b[0;32m   2020\u001b[0m table \u001b[38;5;241m=\u001b[39m \u001b[38;5;28mself\u001b[39m\u001b[38;5;241m.\u001b[39mprep_table(\n\u001b[0;32m   2021\u001b[0m     frame\u001b[38;5;241m=\u001b[39mframe,\n\u001b[0;32m   2022\u001b[0m     name\u001b[38;5;241m=\u001b[39mname,\n\u001b[1;32m   (...)\u001b[0m\n\u001b[0;32m   2027\u001b[0m     dtype\u001b[38;5;241m=\u001b[39mdtype,\n\u001b[0;32m   2028\u001b[0m )\n\u001b[1;32m-> 2030\u001b[0m total_inserted \u001b[38;5;241m=\u001b[39m sql_engine\u001b[38;5;241m.\u001b[39minsert_records(\n\u001b[0;32m   2031\u001b[0m     table\u001b[38;5;241m=\u001b[39mtable,\n\u001b[0;32m   2032\u001b[0m     con\u001b[38;5;241m=\u001b[39m\u001b[38;5;28mself\u001b[39m\u001b[38;5;241m.\u001b[39mcon,\n\u001b[0;32m   2033\u001b[0m     frame\u001b[38;5;241m=\u001b[39mframe,\n\u001b[0;32m   2034\u001b[0m     name\u001b[38;5;241m=\u001b[39mname,\n\u001b[0;32m   2035\u001b[0m     index\u001b[38;5;241m=\u001b[39mindex,\n\u001b[0;32m   2036\u001b[0m     schema\u001b[38;5;241m=\u001b[39mschema,\n\u001b[0;32m   2037\u001b[0m     chunksize\u001b[38;5;241m=\u001b[39mchunksize,\n\u001b[0;32m   2038\u001b[0m     method\u001b[38;5;241m=\u001b[39mmethod,\n\u001b[0;32m   2039\u001b[0m     \u001b[38;5;241m*\u001b[39m\u001b[38;5;241m*\u001b[39mengine_kwargs,\n\u001b[0;32m   2040\u001b[0m )\n\u001b[0;32m   2042\u001b[0m \u001b[38;5;28mself\u001b[39m\u001b[38;5;241m.\u001b[39mcheck_case_sensitive(name\u001b[38;5;241m=\u001b[39mname, schema\u001b[38;5;241m=\u001b[39mschema)\n\u001b[0;32m   2043\u001b[0m \u001b[38;5;28;01mreturn\u001b[39;00m total_inserted\n",
      "File \u001b[1;32mc:\\Users\\3dark\\AppData\\Local\\Programs\\Python\\Python39\\lib\\site-packages\\pandas\\io\\sql.py:1579\u001b[0m, in \u001b[0;36mSQLAlchemyEngine.insert_records\u001b[1;34m(self, table, con, frame, name, index, schema, chunksize, method, **engine_kwargs)\u001b[0m\n\u001b[0;32m   1577\u001b[0m \u001b[38;5;28;01mif\u001b[39;00m re\u001b[38;5;241m.\u001b[39msearch(msg, err_text):\n\u001b[0;32m   1578\u001b[0m     \u001b[38;5;28;01mraise\u001b[39;00m \u001b[38;5;167;01mValueError\u001b[39;00m(\u001b[38;5;124m\"\u001b[39m\u001b[38;5;124minf cannot be used with MySQL\u001b[39m\u001b[38;5;124m\"\u001b[39m) \u001b[38;5;28;01mfrom\u001b[39;00m \u001b[38;5;21;01merr\u001b[39;00m\n\u001b[1;32m-> 1579\u001b[0m \u001b[38;5;28;01mraise\u001b[39;00m err\n",
      "File \u001b[1;32mc:\\Users\\3dark\\AppData\\Local\\Programs\\Python\\Python39\\lib\\site-packages\\pandas\\io\\sql.py:1570\u001b[0m, in \u001b[0;36mSQLAlchemyEngine.insert_records\u001b[1;34m(self, table, con, frame, name, index, schema, chunksize, method, **engine_kwargs)\u001b[0m\n\u001b[0;32m   1567\u001b[0m \u001b[38;5;28;01mfrom\u001b[39;00m \u001b[38;5;21;01msqlalchemy\u001b[39;00m \u001b[38;5;28;01mimport\u001b[39;00m exc\n\u001b[0;32m   1569\u001b[0m \u001b[38;5;28;01mtry\u001b[39;00m:\n\u001b[1;32m-> 1570\u001b[0m     \u001b[38;5;28;01mreturn\u001b[39;00m \u001b[43mtable\u001b[49m\u001b[38;5;241;43m.\u001b[39;49m\u001b[43minsert\u001b[49m\u001b[43m(\u001b[49m\u001b[43mchunksize\u001b[49m\u001b[38;5;241;43m=\u001b[39;49m\u001b[43mchunksize\u001b[49m\u001b[43m,\u001b[49m\u001b[43m \u001b[49m\u001b[43mmethod\u001b[49m\u001b[38;5;241;43m=\u001b[39;49m\u001b[43mmethod\u001b[49m\u001b[43m)\u001b[49m\n\u001b[0;32m   1571\u001b[0m \u001b[38;5;28;01mexcept\u001b[39;00m exc\u001b[38;5;241m.\u001b[39mStatementError \u001b[38;5;28;01mas\u001b[39;00m err:\n\u001b[0;32m   1572\u001b[0m     \u001b[38;5;66;03m# GH34431\u001b[39;00m\n\u001b[0;32m   1573\u001b[0m     \u001b[38;5;66;03m# https://stackoverflow.com/a/67358288/6067848\u001b[39;00m\n\u001b[0;32m   1574\u001b[0m     msg \u001b[38;5;241m=\u001b[39m \u001b[38;5;124mr\u001b[39m\u001b[38;5;124m\"\"\"\u001b[39m\u001b[38;5;124m(\u001b[39m\u001b[38;5;124m\\\u001b[39m\u001b[38;5;124m(1054, \u001b[39m\u001b[38;5;124m\"\u001b[39m\u001b[38;5;124mUnknown column \u001b[39m\u001b[38;5;124m'\u001b[39m\u001b[38;5;124minf(e0)?\u001b[39m\u001b[38;5;124m'\u001b[39m\u001b[38;5;124m in \u001b[39m\u001b[38;5;124m'\u001b[39m\u001b[38;5;124mfield list\u001b[39m\u001b[38;5;124m'\u001b[39m\u001b[38;5;124m\"\u001b[39m\u001b[38;5;124m\\\u001b[39m\u001b[38;5;124m))(?#\u001b[39m\n\u001b[0;32m   1575\u001b[0m \u001b[38;5;124m    )|inf can not be used with MySQL\u001b[39m\u001b[38;5;124m\"\"\"\u001b[39m\n",
      "File \u001b[1;32mc:\\Users\\3dark\\AppData\\Local\\Programs\\Python\\Python39\\lib\\site-packages\\pandas\\io\\sql.py:1121\u001b[0m, in \u001b[0;36mSQLTable.insert\u001b[1;34m(self, chunksize, method)\u001b[0m\n\u001b[0;32m   1118\u001b[0m     \u001b[38;5;28;01mbreak\u001b[39;00m\n\u001b[0;32m   1120\u001b[0m chunk_iter \u001b[38;5;241m=\u001b[39m \u001b[38;5;28mzip\u001b[39m(\u001b[38;5;241m*\u001b[39m(arr[start_i:end_i] \u001b[38;5;28;01mfor\u001b[39;00m arr \u001b[38;5;129;01min\u001b[39;00m data_list))\n\u001b[1;32m-> 1121\u001b[0m num_inserted \u001b[38;5;241m=\u001b[39m \u001b[43mexec_insert\u001b[49m\u001b[43m(\u001b[49m\u001b[43mconn\u001b[49m\u001b[43m,\u001b[49m\u001b[43m \u001b[49m\u001b[43mkeys\u001b[49m\u001b[43m,\u001b[49m\u001b[43m \u001b[49m\u001b[43mchunk_iter\u001b[49m\u001b[43m)\u001b[49m\n\u001b[0;32m   1122\u001b[0m \u001b[38;5;66;03m# GH 46891\u001b[39;00m\n\u001b[0;32m   1123\u001b[0m \u001b[38;5;28;01mif\u001b[39;00m num_inserted \u001b[38;5;129;01mis\u001b[39;00m \u001b[38;5;129;01mnot\u001b[39;00m \u001b[38;5;28;01mNone\u001b[39;00m:\n",
      "File \u001b[1;32mc:\\Users\\3dark\\AppData\\Local\\Programs\\Python\\Python39\\lib\\site-packages\\pandas\\io\\sql.py:1012\u001b[0m, in \u001b[0;36mSQLTable._execute_insert\u001b[1;34m(self, conn, keys, data_iter)\u001b[0m\n\u001b[0;32m   1000\u001b[0m \u001b[38;5;250m\u001b[39m\u001b[38;5;124;03m\"\"\"\u001b[39;00m\n\u001b[0;32m   1001\u001b[0m \u001b[38;5;124;03mExecute SQL statement inserting data\u001b[39;00m\n\u001b[0;32m   1002\u001b[0m \n\u001b[1;32m   (...)\u001b[0m\n\u001b[0;32m   1009\u001b[0m \u001b[38;5;124;03m   Each item contains a list of values to be inserted\u001b[39;00m\n\u001b[0;32m   1010\u001b[0m \u001b[38;5;124;03m\"\"\"\u001b[39;00m\n\u001b[0;32m   1011\u001b[0m data \u001b[38;5;241m=\u001b[39m [\u001b[38;5;28mdict\u001b[39m(\u001b[38;5;28mzip\u001b[39m(keys, row)) \u001b[38;5;28;01mfor\u001b[39;00m row \u001b[38;5;129;01min\u001b[39;00m data_iter]\n\u001b[1;32m-> 1012\u001b[0m result \u001b[38;5;241m=\u001b[39m \u001b[43mconn\u001b[49m\u001b[38;5;241;43m.\u001b[39;49m\u001b[43mexecute\u001b[49m\u001b[43m(\u001b[49m\u001b[38;5;28;43mself\u001b[39;49m\u001b[38;5;241;43m.\u001b[39;49m\u001b[43mtable\u001b[49m\u001b[38;5;241;43m.\u001b[39;49m\u001b[43minsert\u001b[49m\u001b[43m(\u001b[49m\u001b[43m)\u001b[49m\u001b[43m,\u001b[49m\u001b[43m \u001b[49m\u001b[43mdata\u001b[49m\u001b[43m)\u001b[49m\n\u001b[0;32m   1013\u001b[0m \u001b[38;5;28;01mreturn\u001b[39;00m result\u001b[38;5;241m.\u001b[39mrowcount\n",
      "File \u001b[1;32mc:\\Users\\3dark\\AppData\\Local\\Programs\\Python\\Python39\\lib\\site-packages\\sqlalchemy\\engine\\base.py:1415\u001b[0m, in \u001b[0;36mConnection.execute\u001b[1;34m(self, statement, parameters, execution_options)\u001b[0m\n\u001b[0;32m   1413\u001b[0m     \u001b[38;5;28;01mraise\u001b[39;00m exc\u001b[38;5;241m.\u001b[39mObjectNotExecutableError(statement) \u001b[38;5;28;01mfrom\u001b[39;00m \u001b[38;5;21;01merr\u001b[39;00m\n\u001b[0;32m   1414\u001b[0m \u001b[38;5;28;01melse\u001b[39;00m:\n\u001b[1;32m-> 1415\u001b[0m     \u001b[38;5;28;01mreturn\u001b[39;00m \u001b[43mmeth\u001b[49m\u001b[43m(\u001b[49m\n\u001b[0;32m   1416\u001b[0m \u001b[43m        \u001b[49m\u001b[38;5;28;43mself\u001b[39;49m\u001b[43m,\u001b[49m\n\u001b[0;32m   1417\u001b[0m \u001b[43m        \u001b[49m\u001b[43mdistilled_parameters\u001b[49m\u001b[43m,\u001b[49m\n\u001b[0;32m   1418\u001b[0m \u001b[43m        \u001b[49m\u001b[43mexecution_options\u001b[49m\u001b[43m \u001b[49m\u001b[38;5;129;43;01mor\u001b[39;49;00m\u001b[43m \u001b[49m\u001b[43mNO_OPTIONS\u001b[49m\u001b[43m,\u001b[49m\n\u001b[0;32m   1419\u001b[0m \u001b[43m    \u001b[49m\u001b[43m)\u001b[49m\n",
      "File \u001b[1;32mc:\\Users\\3dark\\AppData\\Local\\Programs\\Python\\Python39\\lib\\site-packages\\sqlalchemy\\sql\\elements.py:523\u001b[0m, in \u001b[0;36mClauseElement._execute_on_connection\u001b[1;34m(self, connection, distilled_params, execution_options)\u001b[0m\n\u001b[0;32m    521\u001b[0m     \u001b[38;5;28;01mif\u001b[39;00m TYPE_CHECKING:\n\u001b[0;32m    522\u001b[0m         \u001b[38;5;28;01massert\u001b[39;00m \u001b[38;5;28misinstance\u001b[39m(\u001b[38;5;28mself\u001b[39m, Executable)\n\u001b[1;32m--> 523\u001b[0m     \u001b[38;5;28;01mreturn\u001b[39;00m \u001b[43mconnection\u001b[49m\u001b[38;5;241;43m.\u001b[39;49m\u001b[43m_execute_clauseelement\u001b[49m\u001b[43m(\u001b[49m\n\u001b[0;32m    524\u001b[0m \u001b[43m        \u001b[49m\u001b[38;5;28;43mself\u001b[39;49m\u001b[43m,\u001b[49m\u001b[43m \u001b[49m\u001b[43mdistilled_params\u001b[49m\u001b[43m,\u001b[49m\u001b[43m \u001b[49m\u001b[43mexecution_options\u001b[49m\n\u001b[0;32m    525\u001b[0m \u001b[43m    \u001b[49m\u001b[43m)\u001b[49m\n\u001b[0;32m    526\u001b[0m \u001b[38;5;28;01melse\u001b[39;00m:\n\u001b[0;32m    527\u001b[0m     \u001b[38;5;28;01mraise\u001b[39;00m exc\u001b[38;5;241m.\u001b[39mObjectNotExecutableError(\u001b[38;5;28mself\u001b[39m)\n",
      "File \u001b[1;32mc:\\Users\\3dark\\AppData\\Local\\Programs\\Python\\Python39\\lib\\site-packages\\sqlalchemy\\engine\\base.py:1637\u001b[0m, in \u001b[0;36mConnection._execute_clauseelement\u001b[1;34m(self, elem, distilled_parameters, execution_options)\u001b[0m\n\u001b[0;32m   1625\u001b[0m compiled_cache: Optional[CompiledCacheType] \u001b[38;5;241m=\u001b[39m execution_options\u001b[38;5;241m.\u001b[39mget(\n\u001b[0;32m   1626\u001b[0m     \u001b[38;5;124m\"\u001b[39m\u001b[38;5;124mcompiled_cache\u001b[39m\u001b[38;5;124m\"\u001b[39m, \u001b[38;5;28mself\u001b[39m\u001b[38;5;241m.\u001b[39mengine\u001b[38;5;241m.\u001b[39m_compiled_cache\n\u001b[0;32m   1627\u001b[0m )\n\u001b[0;32m   1629\u001b[0m compiled_sql, extracted_params, cache_hit \u001b[38;5;241m=\u001b[39m elem\u001b[38;5;241m.\u001b[39m_compile_w_cache(\n\u001b[0;32m   1630\u001b[0m     dialect\u001b[38;5;241m=\u001b[39mdialect,\n\u001b[0;32m   1631\u001b[0m     compiled_cache\u001b[38;5;241m=\u001b[39mcompiled_cache,\n\u001b[1;32m   (...)\u001b[0m\n\u001b[0;32m   1635\u001b[0m     linting\u001b[38;5;241m=\u001b[39m\u001b[38;5;28mself\u001b[39m\u001b[38;5;241m.\u001b[39mdialect\u001b[38;5;241m.\u001b[39mcompiler_linting \u001b[38;5;241m|\u001b[39m compiler\u001b[38;5;241m.\u001b[39mWARN_LINTING,\n\u001b[0;32m   1636\u001b[0m )\n\u001b[1;32m-> 1637\u001b[0m ret \u001b[38;5;241m=\u001b[39m \u001b[38;5;28;43mself\u001b[39;49m\u001b[38;5;241;43m.\u001b[39;49m\u001b[43m_execute_context\u001b[49m\u001b[43m(\u001b[49m\n\u001b[0;32m   1638\u001b[0m \u001b[43m    \u001b[49m\u001b[43mdialect\u001b[49m\u001b[43m,\u001b[49m\n\u001b[0;32m   1639\u001b[0m \u001b[43m    \u001b[49m\u001b[43mdialect\u001b[49m\u001b[38;5;241;43m.\u001b[39;49m\u001b[43mexecution_ctx_cls\u001b[49m\u001b[38;5;241;43m.\u001b[39;49m\u001b[43m_init_compiled\u001b[49m\u001b[43m,\u001b[49m\n\u001b[0;32m   1640\u001b[0m \u001b[43m    \u001b[49m\u001b[43mcompiled_sql\u001b[49m\u001b[43m,\u001b[49m\n\u001b[0;32m   1641\u001b[0m \u001b[43m    \u001b[49m\u001b[43mdistilled_parameters\u001b[49m\u001b[43m,\u001b[49m\n\u001b[0;32m   1642\u001b[0m \u001b[43m    \u001b[49m\u001b[43mexecution_options\u001b[49m\u001b[43m,\u001b[49m\n\u001b[0;32m   1643\u001b[0m \u001b[43m    \u001b[49m\u001b[43mcompiled_sql\u001b[49m\u001b[43m,\u001b[49m\n\u001b[0;32m   1644\u001b[0m \u001b[43m    \u001b[49m\u001b[43mdistilled_parameters\u001b[49m\u001b[43m,\u001b[49m\n\u001b[0;32m   1645\u001b[0m \u001b[43m    \u001b[49m\u001b[43melem\u001b[49m\u001b[43m,\u001b[49m\n\u001b[0;32m   1646\u001b[0m \u001b[43m    \u001b[49m\u001b[43mextracted_params\u001b[49m\u001b[43m,\u001b[49m\n\u001b[0;32m   1647\u001b[0m \u001b[43m    \u001b[49m\u001b[43mcache_hit\u001b[49m\u001b[38;5;241;43m=\u001b[39;49m\u001b[43mcache_hit\u001b[49m\u001b[43m,\u001b[49m\n\u001b[0;32m   1648\u001b[0m \u001b[43m\u001b[49m\u001b[43m)\u001b[49m\n\u001b[0;32m   1649\u001b[0m \u001b[38;5;28;01mif\u001b[39;00m has_events:\n\u001b[0;32m   1650\u001b[0m     \u001b[38;5;28mself\u001b[39m\u001b[38;5;241m.\u001b[39mdispatch\u001b[38;5;241m.\u001b[39mafter_execute(\n\u001b[0;32m   1651\u001b[0m         \u001b[38;5;28mself\u001b[39m,\n\u001b[0;32m   1652\u001b[0m         elem,\n\u001b[1;32m   (...)\u001b[0m\n\u001b[0;32m   1656\u001b[0m         ret,\n\u001b[0;32m   1657\u001b[0m     )\n",
      "File \u001b[1;32mc:\\Users\\3dark\\AppData\\Local\\Programs\\Python\\Python39\\lib\\site-packages\\sqlalchemy\\engine\\base.py:1840\u001b[0m, in \u001b[0;36mConnection._execute_context\u001b[1;34m(self, dialect, constructor, statement, parameters, execution_options, *args, **kw)\u001b[0m\n\u001b[0;32m   1837\u001b[0m context\u001b[38;5;241m.\u001b[39mpre_exec()\n\u001b[0;32m   1839\u001b[0m \u001b[38;5;28;01mif\u001b[39;00m context\u001b[38;5;241m.\u001b[39mexecute_style \u001b[38;5;129;01mis\u001b[39;00m ExecuteStyle\u001b[38;5;241m.\u001b[39mINSERTMANYVALUES:\n\u001b[1;32m-> 1840\u001b[0m     \u001b[38;5;28;01mreturn\u001b[39;00m \u001b[38;5;28;43mself\u001b[39;49m\u001b[38;5;241;43m.\u001b[39;49m\u001b[43m_exec_insertmany_context\u001b[49m\u001b[43m(\u001b[49m\u001b[43mdialect\u001b[49m\u001b[43m,\u001b[49m\u001b[43m \u001b[49m\u001b[43mcontext\u001b[49m\u001b[43m)\u001b[49m\n\u001b[0;32m   1841\u001b[0m \u001b[38;5;28;01melse\u001b[39;00m:\n\u001b[0;32m   1842\u001b[0m     \u001b[38;5;28;01mreturn\u001b[39;00m \u001b[38;5;28mself\u001b[39m\u001b[38;5;241m.\u001b[39m_exec_single_context(\n\u001b[0;32m   1843\u001b[0m         dialect, context, statement, parameters\n\u001b[0;32m   1844\u001b[0m     )\n",
      "File \u001b[1;32mc:\\Users\\3dark\\AppData\\Local\\Programs\\Python\\Python39\\lib\\site-packages\\sqlalchemy\\engine\\base.py:2122\u001b[0m, in \u001b[0;36mConnection._exec_insertmany_context\u001b[1;34m(self, dialect, context)\u001b[0m\n\u001b[0;32m   2114\u001b[0m         dialect\u001b[38;5;241m.\u001b[39mdo_execute(\n\u001b[0;32m   2115\u001b[0m             cursor,\n\u001b[0;32m   2116\u001b[0m             sub_stmt,\n\u001b[0;32m   2117\u001b[0m             sub_params,\n\u001b[0;32m   2118\u001b[0m             context,\n\u001b[0;32m   2119\u001b[0m         )\n\u001b[0;32m   2121\u001b[0m \u001b[38;5;28;01mexcept\u001b[39;00m \u001b[38;5;167;01mBaseException\u001b[39;00m \u001b[38;5;28;01mas\u001b[39;00m e:\n\u001b[1;32m-> 2122\u001b[0m     \u001b[38;5;28;43mself\u001b[39;49m\u001b[38;5;241;43m.\u001b[39;49m\u001b[43m_handle_dbapi_exception\u001b[49m\u001b[43m(\u001b[49m\n\u001b[0;32m   2123\u001b[0m \u001b[43m        \u001b[49m\u001b[43me\u001b[49m\u001b[43m,\u001b[49m\n\u001b[0;32m   2124\u001b[0m \u001b[43m        \u001b[49m\u001b[43msql_util\u001b[49m\u001b[38;5;241;43m.\u001b[39;49m\u001b[43m_long_statement\u001b[49m\u001b[43m(\u001b[49m\u001b[43msub_stmt\u001b[49m\u001b[43m)\u001b[49m\u001b[43m,\u001b[49m\n\u001b[0;32m   2125\u001b[0m \u001b[43m        \u001b[49m\u001b[43msub_params\u001b[49m\u001b[43m,\u001b[49m\n\u001b[0;32m   2126\u001b[0m \u001b[43m        \u001b[49m\u001b[43mcursor\u001b[49m\u001b[43m,\u001b[49m\n\u001b[0;32m   2127\u001b[0m \u001b[43m        \u001b[49m\u001b[43mcontext\u001b[49m\u001b[43m,\u001b[49m\n\u001b[0;32m   2128\u001b[0m \u001b[43m        \u001b[49m\u001b[43mis_sub_exec\u001b[49m\u001b[38;5;241;43m=\u001b[39;49m\u001b[38;5;28;43;01mTrue\u001b[39;49;00m\u001b[43m,\u001b[49m\n\u001b[0;32m   2129\u001b[0m \u001b[43m    \u001b[49m\u001b[43m)\u001b[49m\n\u001b[0;32m   2131\u001b[0m \u001b[38;5;28;01mif\u001b[39;00m engine_events:\n\u001b[0;32m   2132\u001b[0m     \u001b[38;5;28mself\u001b[39m\u001b[38;5;241m.\u001b[39mdispatch\u001b[38;5;241m.\u001b[39mafter_cursor_execute(\n\u001b[0;32m   2133\u001b[0m         \u001b[38;5;28mself\u001b[39m,\n\u001b[0;32m   2134\u001b[0m         cursor,\n\u001b[1;32m   (...)\u001b[0m\n\u001b[0;32m   2138\u001b[0m         context\u001b[38;5;241m.\u001b[39mexecutemany,\n\u001b[0;32m   2139\u001b[0m     )\n",
      "File \u001b[1;32mc:\\Users\\3dark\\AppData\\Local\\Programs\\Python\\Python39\\lib\\site-packages\\sqlalchemy\\engine\\base.py:2351\u001b[0m, in \u001b[0;36mConnection._handle_dbapi_exception\u001b[1;34m(self, e, statement, parameters, cursor, context, is_sub_exec)\u001b[0m\n\u001b[0;32m   2349\u001b[0m \u001b[38;5;28;01melif\u001b[39;00m should_wrap:\n\u001b[0;32m   2350\u001b[0m     \u001b[38;5;28;01massert\u001b[39;00m sqlalchemy_exception \u001b[38;5;129;01mis\u001b[39;00m \u001b[38;5;129;01mnot\u001b[39;00m \u001b[38;5;28;01mNone\u001b[39;00m\n\u001b[1;32m-> 2351\u001b[0m     \u001b[38;5;28;01mraise\u001b[39;00m sqlalchemy_exception\u001b[38;5;241m.\u001b[39mwith_traceback(exc_info[\u001b[38;5;241m2\u001b[39m]) \u001b[38;5;28;01mfrom\u001b[39;00m \u001b[38;5;21;01me\u001b[39;00m\n\u001b[0;32m   2352\u001b[0m \u001b[38;5;28;01melse\u001b[39;00m:\n\u001b[0;32m   2353\u001b[0m     \u001b[38;5;28;01massert\u001b[39;00m exc_info[\u001b[38;5;241m1\u001b[39m] \u001b[38;5;129;01mis\u001b[39;00m \u001b[38;5;129;01mnot\u001b[39;00m \u001b[38;5;28;01mNone\u001b[39;00m\n",
      "File \u001b[1;32mc:\\Users\\3dark\\AppData\\Local\\Programs\\Python\\Python39\\lib\\site-packages\\sqlalchemy\\engine\\base.py:2114\u001b[0m, in \u001b[0;36mConnection._exec_insertmany_context\u001b[1;34m(self, dialect, context)\u001b[0m\n\u001b[0;32m   2112\u001b[0m             \u001b[38;5;28;01mbreak\u001b[39;00m\n\u001b[0;32m   2113\u001b[0m     \u001b[38;5;28;01melse\u001b[39;00m:\n\u001b[1;32m-> 2114\u001b[0m         \u001b[43mdialect\u001b[49m\u001b[38;5;241;43m.\u001b[39;49m\u001b[43mdo_execute\u001b[49m\u001b[43m(\u001b[49m\n\u001b[0;32m   2115\u001b[0m \u001b[43m            \u001b[49m\u001b[43mcursor\u001b[49m\u001b[43m,\u001b[49m\n\u001b[0;32m   2116\u001b[0m \u001b[43m            \u001b[49m\u001b[43msub_stmt\u001b[49m\u001b[43m,\u001b[49m\n\u001b[0;32m   2117\u001b[0m \u001b[43m            \u001b[49m\u001b[43msub_params\u001b[49m\u001b[43m,\u001b[49m\n\u001b[0;32m   2118\u001b[0m \u001b[43m            \u001b[49m\u001b[43mcontext\u001b[49m\u001b[43m,\u001b[49m\n\u001b[0;32m   2119\u001b[0m \u001b[43m        \u001b[49m\u001b[43m)\u001b[49m\n\u001b[0;32m   2121\u001b[0m \u001b[38;5;28;01mexcept\u001b[39;00m \u001b[38;5;167;01mBaseException\u001b[39;00m \u001b[38;5;28;01mas\u001b[39;00m e:\n\u001b[0;32m   2122\u001b[0m     \u001b[38;5;28mself\u001b[39m\u001b[38;5;241m.\u001b[39m_handle_dbapi_exception(\n\u001b[0;32m   2123\u001b[0m         e,\n\u001b[0;32m   2124\u001b[0m         sql_util\u001b[38;5;241m.\u001b[39m_long_statement(sub_stmt),\n\u001b[1;32m   (...)\u001b[0m\n\u001b[0;32m   2128\u001b[0m         is_sub_exec\u001b[38;5;241m=\u001b[39m\u001b[38;5;28;01mTrue\u001b[39;00m,\n\u001b[0;32m   2129\u001b[0m     )\n",
      "File \u001b[1;32mc:\\Users\\3dark\\AppData\\Local\\Programs\\Python\\Python39\\lib\\site-packages\\sqlalchemy\\engine\\default.py:943\u001b[0m, in \u001b[0;36mDefaultDialect.do_execute\u001b[1;34m(self, cursor, statement, parameters, context)\u001b[0m\n\u001b[0;32m    942\u001b[0m \u001b[38;5;28;01mdef\u001b[39;00m \u001b[38;5;21mdo_execute\u001b[39m(\u001b[38;5;28mself\u001b[39m, cursor, statement, parameters, context\u001b[38;5;241m=\u001b[39m\u001b[38;5;28;01mNone\u001b[39;00m):\n\u001b[1;32m--> 943\u001b[0m     \u001b[43mcursor\u001b[49m\u001b[38;5;241;43m.\u001b[39;49m\u001b[43mexecute\u001b[49m\u001b[43m(\u001b[49m\u001b[43mstatement\u001b[49m\u001b[43m,\u001b[49m\u001b[43m \u001b[49m\u001b[43mparameters\u001b[49m\u001b[43m)\u001b[49m\n",
      "\u001b[1;31mIntegrityError\u001b[0m: (psycopg2.errors.UniqueViolation) duplicate key value violates unique constraint \"User_email_key\"\nDETAIL:  Key (email)=(edna.wiggum@uwaterloo.ca) already exists.\n\n[SQL: INSERT INTO \"User\" (\"userID\", username, email, password, \"permissionLevel\") VALUES (%(userID__0)s, %(username__0)s, %(email__0)s, %(password__0)s, %(permissionLevel__0)s), (%(userID__1)s, %(username__1)s, %(email__1)s, %(password__1)s, %(permissionLe ... 18981 characters truncated ... ), (%(userID__199)s, %(username__199)s, %(email__199)s, %(password__199)s, %(permissionLevel__199)s)]\n[parameters: {'userID__0': UUID('00000000-0000-0000-0000-000000000001'), 'permissionLevel__0': 1, 'username__0': 'k001flanders', 'password__0': 'password001', 'email__0': 'krusty.flanders@uwaterloo.ca', 'userID__1': UUID('00000000-0000-0000-0000-000000000002'), 'permissionLevel__1': 2, 'username__1': 'a002leonard', 'password__1': 'password002', 'email__1': 'apu.leonard@uwaterloo.ca', 'userID__2': UUID('00000000-0000-0000-0000-000000000003'), 'permissionLevel__2': 1, 'username__2': 'e003wiggum', 'password__2': 'password003', 'email__2': 'edna.wiggum@uwaterloo.ca', 'userID__3': UUID('00000000-0000-0000-0000-000000000004'), 'permissionLevel__3': 1, 'username__3': 'b004burns', 'password__3': 'password004', 'email__3': 'barney.burns@uwaterloo.ca', 'userID__4': UUID('00000000-0000-0000-0000-000000000005'), 'permissionLevel__4': 1, 'username__4': 'w005smithers', 'password__4': 'password005', 'email__4': 'waylon.smithers@uwaterloo.ca', 'userID__5': UUID('00000000-0000-0000-0000-000000000006'), 'permissionLevel__5': 1, 'username__5': 'e006wiggum', 'password__5': 'password006', 'email__5': 'edna.wiggum@uwaterloo.ca', 'userID__6': UUID('00000000-0000-0000-0000-000000000007'), 'permissionLevel__6': 2, 'username__6': 'm007szyslak', 'password__6': 'password007', 'email__6': 'martin.szyslak@uwaterloo.ca', 'userID__7': UUID('00000000-0000-0000-0000-000000000008'), 'permissionLevel__7': 2, 'username__7': 'l008flanders', 'password__7': 'password008', 'email__7': 'lisa.flanders@uwaterloo.ca', 'userID__8': UUID('00000000-0000-0000-0000-000000000009'), 'permissionLevel__8': 2, 'username__8': 'm009nahasapeemapetilon', 'password__8': 'password009', 'email__8': 'milhouse.nahasapeemapetilon@uwaterloo.ca', 'userID__9': UUID('00000000-0000-0000-0000-00000000000a'), 'permissionLevel__9': 1, 'username__9': 'w010burns', 'password__9': 'password010', 'email__9': 'waylon.burns@uwaterloo.ca' ... 900 parameters truncated ... 'userID__190': UUID('00000000-0000-0000-0000-0000000000bf'), 'permissionLevel__190': 2, 'username__190': 'k191gumble', 'password__190': 'password191', 'email__190': 'krusty.gumble@uwaterloo.ca', 'userID__191': UUID('00000000-0000-0000-0000-0000000000c0'), 'permissionLevel__191': 1, 'username__191': 'h192szyslak', 'password__191': 'password192', 'email__191': 'homer.szyslak@uwaterloo.ca', 'userID__192': UUID('00000000-0000-0000-0000-0000000000c1'), 'permissionLevel__192': 2, 'username__192': 'w193skinner', 'password__192': 'password193', 'email__192': 'waylon.skinner@uwaterloo.ca', 'userID__193': UUID('00000000-0000-0000-0000-0000000000c2'), 'permissionLevel__193': 1, 'username__193': 'r194skinner', 'password__193': 'password194', 'email__193': 'ralph.skinner@uwaterloo.ca', 'userID__194': UUID('00000000-0000-0000-0000-0000000000c3'), 'permissionLevel__194': 2, 'username__194': 'm195szyslak', 'password__194': 'password195', 'email__194': 'marge.szyslak@uwaterloo.ca', 'userID__195': UUID('00000000-0000-0000-0000-0000000000c4'), 'permissionLevel__195': 1, 'username__195': 'm196nahasapeemapetilon', 'password__195': 'password196', 'email__195': 'marge.nahasapeemapetilon@uwaterloo.ca', 'userID__196': UUID('00000000-0000-0000-0000-0000000000c5'), 'permissionLevel__196': 1, 'username__196': 'k197simpson', 'password__196': 'password197', 'email__196': 'krusty.simpson@uwaterloo.ca', 'userID__197': UUID('00000000-0000-0000-0000-0000000000c6'), 'permissionLevel__197': 1, 'username__197': 'b198houten', 'password__197': 'password198', 'email__197': 'bart.houten@uwaterloo.ca', 'userID__198': UUID('00000000-0000-0000-0000-0000000000c7'), 'permissionLevel__198': 1, 'username__198': 'w199muntz', 'password__198': 'password199', 'email__198': 'waylon.muntz@uwaterloo.ca', 'userID__199': UUID('00000000-0000-0000-0000-0000000000c8'), 'permissionLevel__199': 1, 'username__199': 'b200wiggum', 'password__199': 'password200', 'email__199': 'barney.wiggum@uwaterloo.ca'}]\n(Background on this error at: https://sqlalche.me/e/20/gkpj)"
     ]
    }
   ],
   "source": [
    "print(\"===== STARTING TO IMPORT DATA ========\")\n",
    "\n",
    "importer.importData(DI.Paths.SampleDatasetFolder.value, \n",
    "                    cleanLevel = DI.ImportLevel.Database, \n",
    "                    buildLevel = DI.ImportLevel.Database, \n",
    "                    randomIDs = False)\n",
    "\n",
    "print(\"========== IMPORT COMPLETE ===========\")"
   ]
  },
  {
   "cell_type": "markdown",
   "id": "9c56724c",
   "metadata": {},
   "source": [
    "<br>\n",
    "<br>\n",
    "\n",
    "## Clearing all Data\n",
    "\n",
    "The following codeblock gives an example of clearing the data from all the tables\n",
    "\n",
    "<br>\n",
    "\n",
    "> ***❗ WARNING:*** <br>\n",
    ">\n",
    "> ONLY DO THIS IF YOU ARE ABSOLUTELY SURE OF WHAT YOU ARE DOING\n",
    "> \n",
    "\n",
    "<br>\n",
    "\n",
    "For the cleaning settings, please refer to the table at [Importing a Dataset](#importing-a-dataset)\n"
   ]
  },
  {
   "cell_type": "code",
   "execution_count": null,
   "id": "fd142d69",
   "metadata": {},
   "outputs": [
    {
     "name": "stdout",
     "output_type": "stream",
     "text": [
      "===== STARTING TO DELETE DATA ========\n",
      "Deleting all tables...\n",
      "========= DELETION COMPLETE ==========\n"
     ]
    }
   ],
   "source": [
    "print(\"===== STARTING TO DELETE DATA ========\")\n",
    "\n",
    "importer.clean(cleanLevel = DI.ImportLevel.Tables)\n",
    "\n",
    "print(\"========= DELETION COMPLETE ==========\")"
   ]
  },
  {
   "cell_type": "markdown",
   "id": "a63b32e8",
   "metadata": {},
   "source": [
    "<br>\n",
    "<br>\n",
    "\n",
    "## Execute Custom SQL\n",
    "\n",
    "The following codeblock gives some example to execute some custom sql command"
   ]
  },
  {
   "cell_type": "code",
   "execution_count": 10,
   "id": "bfa94d36",
   "metadata": {},
   "outputs": [
    {
     "name": "stdout",
     "output_type": "stream",
     "text": [
      "('14d85a4c-87c4-43a2-a399-8b229cec9a5d', '6e25f54e-5cf8-40e6-a8b0-a446e9f6529e', datetime.datetime(2025, 6, 19, 1, 58, 40, 696739, tzinfo=psycopg2.tz.FixedOffsetTimezone(offset=0, name=None)))\n"
     ]
    }
   ],
   "source": [
    "import psycopg2\n",
    "import psycopg2.sql\n",
    "\n",
    "\n",
    "selectNameSQL = '''\n",
    "SELECT \"bookingID\", \"userID\", NOW() \n",
    "FROM \"Cancellation\"\n",
    "WHERE \"bookingID\" = %(booking_id)s AND \"userID\" = %(user_id)s ;\n",
    "'''\n",
    "connData, cursor, err = importer.executeSQL(selectNameSQL, {\"booking_id\": \"14d85a4c-87c4-43a2-a399-8b229cec9a5d\", \"user_id\": \"6e25f54e-5cf8-40e6-a8b0-a446e9f6529e\"}, closeConn = False)\n",
    "\n",
    "if (err is None):\n",
    "    print(cursor.fetchone())\n",
    "    connData.putConn()\n",
    "else:\n",
    "    connData.close()\n",
    "    raise err"
   ]
  }
 ],
 "metadata": {
  "kernelspec": {
   "display_name": "Python 3",
   "language": "python",
   "name": "python3"
  },
  "language_info": {
   "codemirror_mode": {
    "name": "ipython",
    "version": 3
   },
   "file_extension": ".py",
   "mimetype": "text/x-python",
   "name": "python",
   "nbconvert_exporter": "python",
   "pygments_lexer": "ipython3",
   "version": "3.9.3"
  }
 },
 "nbformat": 4,
 "nbformat_minor": 5
}
