{
 "cells": [
  {
   "cell_type": "markdown",
   "id": "63bdbe84",
   "metadata": {},
   "source": [
    "# Data Importer\n",
    "[![Static Badge](https://img.shields.io/badge/Jupyter_Notebook-F37726?style=for-the-badge)](https://jupyter.org/)\n",
    "\n",
    "<br>\n",
    "\n",
    "Performs any **adhoc** database operations that need to be done in bulk. \n",
    "\n",
    "<br>\n",
    "\n",
    "## Requirements\n",
    "- Python (Version 3.6 or up)\n",
    "\n",
    "<br>\n",
    "<br>\n",
    "\n",
    "## Installation\n",
    "Run the pip install command below:"
   ]
  },
  {
   "cell_type": "code",
   "execution_count": null,
   "id": "b47394d2",
   "metadata": {},
   "outputs": [],
   "source": [
    "%pip install -r requirements.txt"
   ]
  },
  {
   "cell_type": "markdown",
   "id": "99d5b6c5",
   "metadata": {},
   "source": [
    "<br>\n",
    "<br>\n",
    "\n",
    "## Initialization\n",
    "\n",
    "Run the codeblock below to initialize all the necessary tools\n",
    "\n",
    "<br>\n",
    "\n",
    "> ***❇️ Important*** <br>\n",
    ">\n",
    "> You may need to restart the kernel of this notebook if you changed anything in the source code\n",
    "> "
   ]
  },
  {
   "cell_type": "code",
   "execution_count": 1,
   "id": "4763c476",
   "metadata": {},
   "outputs": [],
   "source": [
    "import sys\n",
    "\n",
    "sys.path.insert(1, r\"src\")\n",
    "\n",
    "import DataImporter as DI\n",
    "\n",
    "        \n",
    "########\n",
    "# MAIN #\n",
    "########\n",
    "Secrets = DI.DBSecrets.load()\n",
    "Database = DI.DBNames.Toy.value\n",
    "importer = DI.Importer(Secrets, database = Database)\n"
   ]
  },
  {
   "cell_type": "markdown",
   "id": "27adcaa2",
   "metadata": {},
   "source": [
    "<br>\n",
    "<br>\n",
    "\n",
    "## Dataset Format\n",
    "A *dataset* is a folder that contains many .csv files.<br> \n",
    "For simplicity, each .csv file references a particular table. \n",
    "\n",
    "<br>\n",
    "\n",
    "> ***📝 NOTE:*** <br>\n",
    ">\n",
    "> The id keys in the .csv files are only for convenience of debugging\n",
    "> \n",
    "> These ids will be regenerated on the database side.\n",
    "\n",
    "\n",
    "<br>\n",
    "<br>\n",
    "\n",
    "## Importing a Dataset\n",
    "\n",
    "The following codeblock gives some example of importing a dataset"
   ]
  },
  {
   "cell_type": "code",
   "execution_count": 2,
   "id": "5684325a",
   "metadata": {},
   "outputs": [
    {
     "name": "stdout",
     "output_type": "stream",
     "text": [
      "===== STARTING TO IMPORT DATA ========\n",
      "Inserting User Data...\n",
      "Inserting Building Data...\n",
      "Inserting Room Data...\n",
      "Inserting Booking Data...\n",
      "Inserting Cancellation Data...\n",
      "========== IMPORT COMPLETE ===========\n"
     ]
    }
   ],
   "source": [
    "print(\"===== STARTING TO IMPORT DATA ========\")\n",
    "\n",
    "importer.importData(r\"data/Toy Dataset\")\n",
    "\n",
    "print(\"========== IMPORT COMPLETE ===========\")"
   ]
  },
  {
   "cell_type": "markdown",
   "id": "9c56724c",
   "metadata": {},
   "source": [
    "<br>\n",
    "<br>\n",
    "\n",
    "## Clearing all Data\n",
    "\n",
    "The following codeblock gives an example of clearing the data from all the tables\n",
    "\n",
    "<br>\n",
    "\n",
    "> ***❗ WARNING:*** <br>\n",
    ">\n",
    "> ONLY DO THIS IF YOU ARE ABSOLUTELY SURE OF WHAT YOU ARE DOING\n",
    "> "
   ]
  },
  {
   "cell_type": "code",
   "execution_count": null,
   "id": "fd142d69",
   "metadata": {},
   "outputs": [
    {
     "name": "stdout",
     "output_type": "stream",
     "text": [
      "===== STARTING TO DELETE DATA ========\n",
      "Clearing User...\n",
      "Clearing Building...\n",
      "Clearing Room...\n",
      "Clearing Booking...\n",
      "========= DELETION COMPLETE ==========\n"
     ]
    }
   ],
   "source": [
    "print(\"===== STARTING TO DELETE DATA ========\")\n",
    "\n",
    "importer.clearAll()\n",
    "\n",
    "print(\"========= DELETION COMPLETE ==========\")"
   ]
  },
  {
   "cell_type": "markdown",
   "id": "502df878",
   "metadata": {},
   "source": [
    "<br>\n",
    "<br>\n",
    "\n",
    "## Deleting Data from a Particular Table\n",
    "\n",
    "The following codeblock gives some example of clearing all data from a certain table. <br>\n",
    "Most likely, you would need to change the below to fit your needs of clearing data.\n",
    "\n",
    "<br>\n",
    "\n",
    "> ***❗ WARNING:*** <br>\n",
    ">\n",
    "> ONLY DO THIS IF YOU ARE ABSOLUTELY SURE OF WHAT YOU ARE DOING\n",
    "> "
   ]
  },
  {
   "cell_type": "code",
   "execution_count": null,
   "id": "4ecf7d32",
   "metadata": {},
   "outputs": [
    {
     "name": "stdout",
     "output_type": "stream",
     "text": [
      "===== STARTING TO DELETE DATA ========\n",
      "========= DELETION COMPLETE ==========\n"
     ]
    }
   ],
   "source": [
    "print(\"===== STARTING TO DELETE DATA ========\")\n",
    "\n",
    "importer.clearTable('User')\n",
    "\n",
    "print(\"========= DELETION COMPLETE ==========\")"
   ]
  },
  {
   "cell_type": "markdown",
   "id": "a63b32e8",
   "metadata": {},
   "source": [
    "<br>\n",
    "<br>\n",
    "\n",
    "## Execute Custom SQL\n",
    "\n",
    "The following codeblock gives some example to execute some custom sql command"
   ]
  },
  {
   "cell_type": "code",
   "execution_count": 6,
   "id": "bfa94d36",
   "metadata": {},
   "outputs": [
    {
     "name": "stdout",
     "output_type": "stream",
     "text": [
      "('Alice Margatroid',)\n"
     ]
    }
   ],
   "source": [
    "import psycopg2\n",
    "import psycopg2.sql\n",
    "\n",
    "\n",
    "selectNameSQL = psycopg2.sql.SQL(\"SELECT {nameCol} FROM {userTable} LIMIT 1\").format(\n",
    "    nameCol = psycopg2.sql.Identifier(\"name\"),\n",
    "    userTable = psycopg2.sql.Identifier(DI.TableNames.User.value)\n",
    ")\n",
    "\n",
    "conn, cursor, err = importer.executeSQL(selectNameSQL, closeConn = False)\n",
    "\n",
    "if (err is None):\n",
    "    print(cursor.fetchone())\n",
    "    conn.close()\n",
    "else:\n",
    "    conn.close()\n",
    "    raise err"
   ]
  }
 ],
 "metadata": {
  "kernelspec": {
   "display_name": "Python 3",
   "language": "python",
   "name": "python3"
  },
  "language_info": {
   "codemirror_mode": {
    "name": "ipython",
    "version": 3
   },
   "file_extension": ".py",
   "mimetype": "text/x-python",
   "name": "python",
   "nbconvert_exporter": "python",
   "pygments_lexer": "ipython3",
   "version": "3.9.3"
  }
 },
 "nbformat": 4,
 "nbformat_minor": 5
}
